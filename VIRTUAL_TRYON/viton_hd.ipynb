{
  "nbformat": 4,
  "nbformat_minor": 0,
  "metadata": {
    "colab": {
      "provenance": []
    },
    "kernelspec": {
      "name": "python3",
      "display_name": "Python 3"
    },
    "language_info": {
      "name": "python"
    },
    "accelerator": "GPU"
  },
  "cells": [
    {
      "cell_type": "code",
      "metadata": {
        "colab": {
          "base_uri": "https://localhost:8080/"
        },
        "id": "XgyC9yeoCiJE",
        "outputId": "19b5a9f7-092e-4ee5-c6b3-cc5d725e9f90"
      },
      "source": [
        "!git clone https://github.com/shadow2496/VITON-HD.git"
      ],
      "execution_count": 1,
      "outputs": [
        {
          "output_type": "stream",
          "name": "stdout",
          "text": [
            "Cloning into 'VITON-HD'...\n",
            "remote: Enumerating objects: 52, done.\u001b[K\n",
            "remote: Counting objects: 100% (19/19), done.\u001b[K\n",
            "remote: Compressing objects: 100% (12/12), done.\u001b[K\n",
            "remote: Total 52 (delta 12), reused 7 (delta 7), pack-reused 33 (from 3)\u001b[K\n",
            "Receiving objects: 100% (52/52), 5.03 MiB | 33.88 MiB/s, done.\n",
            "Resolving deltas: 100% (20/20), done.\n"
          ]
        }
      ]
    },
    {
      "cell_type": "markdown",
      "source": [],
      "metadata": {
        "id": "c2f5DOl7oGj1"
      }
    },
    {
      "cell_type": "code",
      "metadata": {
        "id": "16r_-CFgDmfe",
        "outputId": "54841b4d-5671-4233-9368-6b35e69034fb",
        "colab": {
          "base_uri": "https://localhost:8080/"
        }
      },
      "source": [
        "cd VITON-HD"
      ],
      "execution_count": 2,
      "outputs": [
        {
          "output_type": "stream",
          "name": "stdout",
          "text": [
            "/content/VITON-HD\n"
          ]
        }
      ]
    },
    {
      "cell_type": "code",
      "metadata": {
        "id": "UWKFCFu5Gn0b"
      },
      "source": [
        "pip install opencv-python torchgeometry"
      ],
      "execution_count": null,
      "outputs": []
    },
    {
      "cell_type": "code",
      "metadata": {
        "id": "tVy0zVx6MBI5"
      },
      "source": [
        "ls"
      ],
      "execution_count": null,
      "outputs": []
    },
    {
      "cell_type": "code",
      "metadata": {
        "id": "wszoEOK5HdDH"
      },
      "source": [
        "# checkpoints alias\n",
        "import gdown\n",
        "\n",
        "url = 'https://drive.google.com/uc?id=1cAUuGnK1jY_69YQuaqIJ2EJLL5bLYKVN'\n",
        "output = 'checkpoints/alias_final.pth'\n",
        "gdown.download(url, output, quiet=False)\n",
        "#https://drive.google.com/file/d/1cAUuGnK1jY_69YQuaqIJ2EJLL5bLYKVN/view?usp=sharing"
      ],
      "execution_count": null,
      "outputs": []
    },
    {
      "cell_type": "code",
      "metadata": {
        "id": "38HFSkSCQJYY"
      },
      "source": [
        "# checkpoints gmm\n",
        "import gdown\n",
        "\n",
        "url = 'https://drive.google.com/uc?id=1W8teZFz_I4wZCasTQIsGa6el1HB4Vw8b'\n",
        "output = 'checkpoints/gmm_final.pth'\n",
        "gdown.download(url, output, quiet=False)\n",
        "#https://drive.google.com/file/d/1W8teZFz_I4wZCasTQIsGa6el1HB4Vw8b/view?usp=sharing"
      ],
      "execution_count": null,
      "outputs": []
    },
    {
      "cell_type": "code",
      "metadata": {
        "id": "uI_lMYFdQVy3"
      },
      "source": [
        "# checkpoints seg\n",
        "import gdown\n",
        "\n",
        "url = 'https://drive.google.com/uc?id=1Nai8ladjicPGrXGHDFxrGo-u2iSsAWSV'\n",
        "output = 'checkpoints/seg_final.pth'\n",
        "gdown.download(url, output, quiet=False)\n",
        "#https://drive.google.com/file/d/1Nai8ladjicPGrXGHDFxrGo-u2iSsAWSV/view?usp=sharing"
      ],
      "execution_count": null,
      "outputs": []
    },
    {
      "cell_type": "code",
      "metadata": {
        "id": "ub5Ms4eOQisL"
      },
      "source": [
        "# datasets test_pairs.txt\n",
        "import gdown\n",
        "\n",
        "url = 'https://drive.google.com/uc?id=1CjHDBaP33hGNiCPH-8IiQNEdL1AQBCQn'\n",
        "output = 'datasets/test_pairs.txt'\n",
        "gdown.download(url, output, quiet=False)\n",
        "#https://drive.google.com/file/d/1CjHDBaP33hGNiCPH-8IiQNEdL1AQBCQn/view?usp=sharing"
      ],
      "execution_count": null,
      "outputs": []
    },
    {
      "cell_type": "code",
      "metadata": {
        "id": "DfUUMLoiQ6Hc"
      },
      "source": [
        "# datasets test.zip\n",
        "import gdown\n",
        "\n",
        "url = 'https://drive.google.com/uc?id=1KKoaWoMxgSQxcMFNvUiFgMgGO3erz7lm'\n",
        "output = 'datasets/test.zip'\n",
        "gdown.download(url, output, quiet=False)\n",
        "#https://drive.google.com/file/d/1KKoaWoMxgSQxcMFNvUiFgMgGO3erz7lm/view?usp=sharing"
      ],
      "execution_count": null,
      "outputs": []
    },
    {
      "cell_type": "code",
      "metadata": {
        "id": "F51KsNt1RVpN"
      },
      "source": [
        "!unzip datasets/test.zip -d datasets"
      ],
      "execution_count": null,
      "outputs": []
    },
    {
      "cell_type": "code",
      "metadata": {
        "id": "l1NtTuBbMq4u"
      },
      "source": [
        "ls"
      ],
      "execution_count": null,
      "outputs": []
    },
    {
      "cell_type": "code",
      "metadata": {
        "id": "U2aP2e1lUTkl"
      },
      "source": [
        "CUDA_VISIBLE_DEVICES=0"
      ],
      "execution_count": null,
      "outputs": []
    },
    {
      "cell_type": "code",
      "metadata": {
        "id": "NCb1e6XVUYlf"
      },
      "source": [
        "!python test.py --name testiii"
      ],
      "execution_count": null,
      "outputs": []
    },
    {
      "cell_type": "code",
      "metadata": {
        "id": "4f3WNkaaUeAv"
      },
      "source": [
        "ls results/testiii/"
      ],
      "execution_count": null,
      "outputs": []
    },
    {
      "cell_type": "code",
      "metadata": {
        "id": "fJIK8UCvWGeq"
      },
      "source": [
        "from PIL import Image\n",
        "#Image.open(\"results/testiii/00891_01430_00.jpg\")\n",
        "#Image.open(\"results/testiii/07445_06429_00.jpg\")\n",
        "#Image.open(\"results/testiii/08909_02783_00.jpg\")\n",
        "#Image.open(\"results/testiii/03615_09933_00.jpg\")\n",
        "Image.open(\"results/testiii/07573_11791_00.jpg\")\n",
        "#Image.open(\"results/testiii/10549_01260_00.jpg\")"
      ],
      "execution_count": null,
      "outputs": []
    },
    {
      "cell_type": "code",
      "metadata": {
        "id": "19a80vdFXKk9"
      },
      "source": [],
      "execution_count": null,
      "outputs": []
    }
  ]
}